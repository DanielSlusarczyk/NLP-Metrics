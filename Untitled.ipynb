{
 "cells": [
  {
   "cell_type": "markdown",
   "id": "3fca8cd8-67ea-49ea-ad53-f0f0676fcf9f",
   "metadata": {},
   "source": [
    "## Projekt Indywidualny"
   ]
  },
  {
   "cell_type": "markdown",
   "id": "ed205819-c5d2-4a22-a126-1196cc7fab40",
   "metadata": {},
   "source": [
    "Autor: <b>Daniel Ślusarczyk</b>"
   ]
  },
  {
   "cell_type": "markdown",
   "id": "300b5c04-b05b-49ef-829c-6f4f2f91cbc5",
   "metadata": {},
   "source": [
    "Opiekun projektu: <b>mgr inż. Mateusz Bartosiewicz<b>"
   ]
  },
  {
   "cell_type": "markdown",
   "id": "0186a5bd-49ca-4bdd-974d-2eb6b29e2716",
   "metadata": {},
   "source": [
    "## Spis Treści:\n",
    "1. [Cel projektu](#CP)\n",
    "2. [NLP](#NLP)\n",
    "3. [Metryki](#M)\n",
    "    1. [Powstanie metryk](#PM)\n",
    "    2. [Wady metryk](#WM)\n",
    "    3. [Zaburzanie dzialania metryk](#ZDM)\n",
    "    4. [Wpływ na postrzeganie obrazu](#WNPO)\n",
    "    5. [Translacja w Image Captioning](#TWIC)\n",
    "4. [Sposoby porównywania tesktów](#SPT)\n",
    "5. [Embeddings dla NLP](#EDN)\n",
    "6. [Zbiór COCO](#ZC)\n",
    "7. [Serwer ewauacyjny COCO](#SEC)\n",
    "8. [Źródła](#Z)\n",
    "<br>\n",
    "<br>\n",
    "<br>"
   ]
  },
  {
   "cell_type": "markdown",
   "id": "41b0b6d8-96e1-4fd4-93f1-bf61331cb411",
   "metadata": {},
   "source": [
    "### Cel projektu <br> <a name=\"W\"></a>\n",
    "Nadrzędnym celem projektu jest opracowanie teoretyczne narzędzi do analizy NLP.\n",
    "<br>\n",
    "<br>\n",
    "<br>"
   ]
  },
  {
   "cell_type": "markdown",
   "id": "06f1520a-1777-400a-96e9-98349ba54343",
   "metadata": {},
   "source": [
    "### NLP - Przetwarzanie języka Naturalnego <a name=\"OP\"></a>"
   ]
  },
  {
   "cell_type": "markdown",
   "id": "633653e0-936b-4481-b606-70cc3885a22f",
   "metadata": {
    "tags": []
   },
   "source": [
    "NLP (z ang. Natural Leanguage Processing) jest to interdyscyplinarna dziedzina, oparta na podstawach sztucznej inteligencji i językoznawstwa.\n",
    "Zajmuje się automatyzacją analizy, rozumienia, tłumaczenia i generowania języka naturalnego przez komputer.  Istnieją dwa fundamentalne kierunki przepływu informacji w NLP, które stanowią główną problematykę tej dziedziny . System, który zawiera informacje zapisane w bazie danych w sposób techniczny i zrozumiały wyłącznie dla osób zaznajomionych z sposobem zapisu przekształca się w informacje przedstawione w sposób zrozumiały dla wszystkich osób posługujących się danym językiem. Zaś system, który rozumie język naturalny modyfikuje go na formalne symbole możliwe do przetworzenia przez system komputerowy. W konsekwencji problematyka NLP dotyczy zarówno generacji i rozumienia języka.\n",
    "<br>\n",
    "<br>\n",
    "<b>Problemy stojące przed NLP:</b> \n",
    "<br>\n",
    "Ze względu na niezwykłe rozbudowanie i skomplikowanie języka naturalnego można wyróżnić wiele problemów, z którymi wiąże się dziedzina NLP:\n",
    "<ul>\n",
    "<li> Segmentacja sygnału mowy</li>\n",
    "<li> Segmentacja tekstu</li>\n",
    "<li> Wieloznaczność słów</li>\n",
    "<li> Syntaktyczna niejednoznaczność</li>\n",
    "<li> Nieprawidłowe, bądź nieregularne dane</li>\n",
    "<li> Akt mowy i plan</li>\n",
    "</ul>\n",
    "<b> Przykładowe zadania NLP:</b>\n",
    "<ul>\n",
    "<li> Automatyczna sumaryzacja – program umożliwiający streszczenie dłuższego tekstu w krótszy o tym samym przesłaniu i najważniejszych informacjach</li>\n",
    "<li> Synteza mowy – operacja polegająca na przetwarzaniu języka na mowę</li>\n",
    "<li> Korekcja tekstu – analiza tekstu i wykrywanie błędów</li>\n",
    "<li> Rozpoznawanie mowy – operacja polegająca na przetwarzaniu mowy na tekst </li>\n",
    "</ul>\n",
    "<br>\n",
    "<br>"
   ]
  },
  {
   "cell_type": "markdown",
   "id": "b006d249-29de-44e7-bd07-b5f404a225e4",
   "metadata": {
    "tags": []
   },
   "source": [
    "### Metryki "
   ]
  },
  {
   "cell_type": "markdown",
   "id": "3ea2d274-6a4b-4e26-8c92-a05d7e0af6e0",
   "metadata": {},
   "source": [
    "Metryki są nieodłączonym elementem uczenia maszynowego. Służa do oceny spełnienia oczekiwań stawianych przed problemem, do którego używana jest dana metryka."
   ]
  },
  {
   "cell_type": "markdown",
   "id": "fa6ae73f-5827-4119-89c6-06a237cbce38",
   "metadata": {
    "tags": []
   },
   "source": [
    "### GLUE"
   ]
  },
  {
   "cell_type": "markdown",
   "id": "1cf9fb39-0c0b-4018-94a1-fce140585a67",
   "metadata": {
    "tags": []
   },
   "source": [
    "<b> General Language Understanding Evaluation </b>\n",
    "<br>\n",
    "Ogólna miara oceny zrozumienia języka w formie zbioru zestawów danych wykorzystywanych do szkolenia, oceny i analizy modeli NLP względem siebie. Zbiór składa sie z dziewięciu zróżniocowanych zestawów danych zadań przygotowanych w celu przetestowania zrozumienia języka przez model. Ma klucze znaczenie do oceny modeli uczenia transferowego, czyli takiego, w którym model wytrenowany w jednym zadaniu jest ponownie używany do drugiego zadania."
   ]
  },
  {
   "cell_type": "markdown",
   "id": "0add0ed6-c48b-41f6-9afc-c688b10a3661",
   "metadata": {},
   "source": [
    "### Super GLUE"
   ]
  },
  {
   "cell_type": "markdown",
   "id": "8e282e5e-643a-4f7f-a366-c78d60693733",
   "metadata": {},
   "source": [
    "<b>Super General Language Understanding Evaluation</b>\n",
    "<br>\n",
    "Metryka oparta o metrykę GLUE i rozszerzona o sześć nowych zadań."
   ]
  },
  {
   "cell_type": "markdown",
   "id": "1da8d204-3929-44ac-a886-7856f8ab5975",
   "metadata": {},
   "source": [
    "### BLEU"
   ]
  },
  {
   "cell_type": "markdown",
   "id": "51175e7d-4bba-4167-a56b-0d8d7c6368e4",
   "metadata": {},
   "source": [
    "<b>BiLingual Evaluation Understudy</b>\n",
    "<br>\n",
    "Ewaluacja służąca do mierzenia jakości modeli tłumaczenia maszynowego. Zadaniem tej metryki jest ocena jak dobrze model tłumaczy tekst pomiędzy językami. W przypadku tej metryki \"jakość\" rozumiana jest jako korelacja pomiędzy danymi wyjściowymi a tekstem ludzkim - im tłumaczenie bardziej zbliżone do tłumaczenia ludzkiego, tym jest uzawane za lepsze. BLEU jest jedną z pierwszych metryk, której udało się uzyskać wyniki zbliżone z ludzkim osądem. W konsekwencji stała się najbardziej popularną metodą, pomimo pewnych wad.\n",
    "\n",
    "<b>Działanie:</b><br>\n",
    "Założeniem BLEU jest ocena dużych korposów. Nie znajduje zastosowania do oceny pojedynczych zdań. Algorytm porównuje n-gram tłumaczenia kandydata z n-gramem tłumaczenie wzorcowego w celu policzenia liczby wystąpień (miejsce wystąpienia nie ma znaczenia). Im większa liczba wystąpień n-gramu pomiędzy kandydatem i wzorcem tym tłumaczenie jest uznawane za lepsze. Wynikiem tej metryki jest liczba z zakresu 0-1. Metryka BLEU uwzględnia również różnice w długości pomiędzy tłumaczeniem wzorcowym, a kandydowanym za pomocą współczynnika BP.<br>\n",
    "Dla c > r lub c = r:\n",
    "$$\n",
    "  BP = 1 \n",
    "$$\n",
    "Dla c < r:\n",
    "$$\n",
    "  BP = e^{1-\\frac{r}{c}}\n",
    "$$\n",
    "r - liczba słów w wzorcowym tłumaczeniu<br>\n",
    "c - liczba słów w kandydowanym tłumaczeniu<br>\n",
    "\n",
    "Końcowa wartość metryki jest równa:\n",
    "$$\n",
    "  BLUE = BP * exp( \\sum \\limits_{n=1} ^{N} w_{n} log (p_{n}))\n",
    "$$\n",
    "N - liczba rozważanym n-gramów<br>\n",
    "wn - waga danego n-gramu<br>\n",
    "pn - stosunek wystąpień danego n-gramu do wszystkich n-gramów<br>\n",
    "<br>\n",
    "Problemy metryki:\n",
    "* Udowodniono, że wzrost wartości BLEU nie musi mieć przełożenia na wzrost jakości tłumaczenia\n",
    "* Istnieją przypadki, że wyniki BLEU znacząco odbiegają od ludzkiej oceny\n",
    "* W przypadku użycia metryki BLEU do porównywania dwóch systemów oba systemy powinny być podobne"
   ]
  },
  {
   "cell_type": "code",
   "execution_count": 16,
   "id": "8098dd8e-e140-47a5-b4a0-8b02a2620051",
   "metadata": {
    "tags": []
   },
   "outputs": [
    {
     "name": "stdout",
     "output_type": "stream",
     "text": [
      "BLEU Score:  0.9554427922043668\n",
      "['the', 'cat', 'is', 'on', 'a', 'table']\n",
      "['the', 'cat', 'is', 'on', 'a', 'table']\n",
      "GRAM\t\t\t\t\tRef1\tRef2\tMax Ref Count\tClip Count\n",
      "1)the   \t\t\t\t2\t1\t2\t1\t1\n",
      "2)cat   \t\t\t\t1\t1\t1\t1\t1\n",
      "3)is    \t\t\t\t1\t1\t1\t1\t1\n",
      "4)on    \t\t\t\t1\t1\t1\t1\t1\n",
      "5)a     \t\t\t\t0\t1\t1\t1\t1\n",
      "6)table \t\t\t\t0\t0\t0\t1\t0\n",
      "SUMA dla 1-gramu : 5\n",
      "7)the cat\t\t\t\t1\t0\t1\t1\t1\n",
      "8)cat is\t\t\t\t1\t0\t1\t1\t1\n",
      "9)is on \t\t\t\t1\t1\t1\t1\t1\n",
      "10)on a \t\t\t\t0\t1\t1\t1\t1\n",
      "11)a table\t\t\t\t0\t0\t0\t1\t0\n",
      "SUMA dla 2-gramu : 4\n"
     ]
    }
   ],
   "source": [
    "import  nltk.translate.bleu_score as bleu\n",
    "import re\n",
    "\n",
    "references = [\n",
    "            'the cat is on the mat'.split(), \n",
    "            'the map is on a cat'.split()\n",
    "            ]\n",
    "candidate = 'the cat is on a table'.split()\n",
    "print(\"BLEU Score: \", bleu.sentence_bleu(references, candidate, weights=(0.25, 0, 0, 0)))\n",
    "\n",
    "\n",
    "# Maksymalna długość kandydata/wzorca\n",
    "max_size = len(candidate)\n",
    "for reference in references:\n",
    "    if(max_size < len(reference)):\n",
    "        max_size = len(reference)\n",
    "        \n",
    "# Liczba rozpatrywanych n-gramów\n",
    "n = 2\n",
    "# Liczba referencji\n",
    "refNmb = len(references)\n",
    "print (candidate)\n",
    "unique_candidate = []\n",
    "for x in candidate:\n",
    "    if x not in unique_candidate:\n",
    "        unique_candidate.append(x)\n",
    "        \n",
    "print(unique_candidate)\n",
    "counter = 1\n",
    "tabs='\\t\\t\\t\\t'\n",
    "print(\"GRAM\" + tabs + \"\\tRef1\" + \"\\t\" + \"Ref2\" + \"\\t\" + \"Max Ref Count\" + \"\\t\" + \"Clip Count\")\n",
    "# Pętla po liczbie n (liczbie rozpatrywanych n-gramów)\n",
    "for ngram in range(1, n + 1):\n",
    "    # Liczba n-gramów:\n",
    "    sumClipCount = 0\n",
    "    nmbOfGrams = len(unique_candidate) - ngram + 1\n",
    "    # Pętla po liczbie n-gramów zależna od rozpatrywanego n-gramu\n",
    "    for idOfPattern in range(0, nmbOfGrams):\n",
    "        gram = unique_candidate[idOfPattern]\n",
    "        # Pętla po liczbie słów do dodania aby otrzymać n-gram\n",
    "        for idToAdd in range(1, ngram):\n",
    "            gram = gram + ' ' + unique_candidate[idOfPattern + idToAdd]\n",
    "        \n",
    "        # Sprawdzanie wystąpień n-gramu w referencjach\n",
    "        print(\"{0:<8}\".format(str(counter) + \")\" + gram), end='')\n",
    "        print(tabs, end='')\n",
    "        counter = counter + 1\n",
    "        maxRefCount = 0;\n",
    "        count = 0\n",
    "        strCWS=' '.join(map(str, candidate))\n",
    "        count = re.findall(\"^\" + gram + \"$|^\" + gram + \" | \" + gram + \" |\" + gram + \"$\" , strCWS)\n",
    "        for reference in references:\n",
    "            strWS=' '.join(map(str, reference))\n",
    "            if(gram in strWS):\n",
    "                nmb = re.findall(\"^\" + gram + \"$|^\" + gram + \" | \" + gram + \" |\" + gram + \"$\" , strWS)\n",
    "                print(str(len(nmb)) + '\\t', end='')\n",
    "                maxRefCount = max(maxRefCount, len(nmb))\n",
    "            else:\n",
    "                print(\"0\" + '\\t', end='')\n",
    "                \n",
    "        sumClipCount = sumClipCount + min(maxRefCount, len(count))\n",
    "        print(str(maxRefCount) + '\\t' + str(len(count)) + '\\t' + str(min(maxRefCount, len(count))))\n",
    "    print(\"SUMA dla \" + str(ngram) + \"-gramu : \" + str(sumClipCount))\n"
   ]
  },
  {
   "cell_type": "markdown",
   "id": "9a469b72-8155-4914-b351-5e749d34f7b8",
   "metadata": {},
   "source": [
    "$$\n",
    "  BLUE = 1 * (exp(0,25 * log(5/6) + 0,25 * log(4/5)) = 0,903602...\n",
    "$$"
   ]
  },
  {
   "cell_type": "markdown",
   "id": "5fc74cfd-9c7c-4126-a8bf-3383c31b2ee9",
   "metadata": {},
   "source": [
    "### METEOR"
   ]
  },
  {
   "cell_type": "markdown",
   "id": "6012cdad-05c4-4fdf-a185-5523e0fd63b5",
   "metadata": {},
   "source": [
    "**Metric for Evaluation of Translation with Explicit ORdering**"
   ]
  },
  {
   "cell_type": "markdown",
   "id": "55bddbba-a9be-4ee5-873e-5d566fd4aedb",
   "metadata": {},
   "source": [
    "Metryka używana do oceny tłumaczenia maszynowego. Operta na średniej harmonicznej n-gramów precyzji i pokrycia z przyznaniem większej wagi dla pokrycia. Cechą charakterystyczną tej metryki jest dopasowywanie synonimów - akceptowanie wyrazów o podobnym znaczeniu. Powodem powstania tej metryki jest próba wyeliminowania błędów pojawiających się w metryce BLEU. Główna różnicą pomiędzy tymi metrykami jest poziom szukania korelacji. BLUE skupia się na poziomie całego korpusy, natomiast METEOR na poziomie zdań i segmentów.\n",
    "<br><br>\n",
    "**Działanie:**\n",
    "METEOR w celu oszacowania jakości tłumaczenia maszynowego porównuje je z jednym/dwoma tłumaczeniami wzorcowymi. Wynik ewaluacji jest obliczany osobno dla każdego zdania w taki sposób, że każde zdanie z tłumaczenia maszynowego jest porównywane ze zdaniem z tłumaczenia wzorcowego, a następnie do dalszej analizy brana jest pod uwagę lepsza ocena. Metryka METEOR posługuje się dwoma modułami:\n",
    "* Etap pierwszy: METEOR ALIGNER - tworzenie odwzorowania pomiędzymi tłumaczeniami\n",
    "* Etap drugi: METEOR SCORER - obliczanie końcowego wyniku\n",
    "\n",
    "Etap pierwszy:<br>\n",
    "Etap pierwszy dzieli się na dwa zasadniczne kroki: zidentyfikowanie wszystkich odwzorowań pomiędzy tłumaczeniem ocenianym a wzorcowym i wyselekcjonowanie najlepszego odwzorowania. <br>\n",
    "\n",
    "Identyfikacja odwzorowań: <br>\n",
    "Odwzorowanień w metryce METEOR jest lista słów z tłumaczenia wzorcowego, które w jakiś spoób odpowiadają słowu z tłumaczenia maszynowego. Proces dopasowywania jest realizowany poprzez cztery moduły:\n",
    "* exact - dopasowanie słów identycznych\n",
    "* stem - dopasowanie słów o identycznym rdzeniu\n",
    "* synonym - dopasowanie słów bliskoznacznych według bazy WorldNet\n",
    "* paraphrase - dopasowanie fraz wymienionych jako parafrazy w tabeli parafrazowej\n",
    "\n",
    "Przykład: <br>\n",
    "Tłumaczenie maszynowe (T): Chłopak bajkę opowiadał bez ogródek <br>\n",
    "Tłumaczenie wzorcowe (T): Chłopczyk opowiada historię bez owijania w bawełnę <br>\n",
    "\n",
    "<p align=\"center\">\n",
    "  <img src=\"METEOR_schemat.png\"/>\n",
    "</p>\n",
    "\n",
    "Wyselekcjonowanie najlepszego odwzorowania:\n",
    "Krok ten polega na znalezieniu największego podzbioru dopasowań wśród dopasowań znalezionych w pierwszym etapie i spełniających kryteria:\n",
    "* Każde słowo może należeć tylko do jednego dopasowania\n",
    "* Dopasowywana jest możliwie największa liczba słów w obu tłumaczeniach\n",
    "* W wyniku wybranych dopasowań występuje możliwie najmniejsza liczba fraz przylegających do siebie i występujących w tej samej kolejności w obu tłumaczeniach\n",
    "* Pomiędzy pozycjami startowymi dopasowań wystąpi jak najmniejsza suma odstępów - faworyzowanie dopasowań na podobnych pozycjach w obu tłumaczeniach\n",
    "\n",
    "Najlepsze dopasowanie:\n",
    "<p align=\"center\">\n",
    "  <img src=\"METEOR_schemat2.png\"/>\n",
    "</p>"
   ]
  },
  {
   "cell_type": "markdown",
   "id": "67cd4250-886e-4e36-b826-8fa274c13c71",
   "metadata": {},
   "source": [
    "Etap drugi:<br>\n",
    "Celem etapu drugiego jest obliczenie wyniku końcowego metryki na podstawie wyniku pierwszego etapu. Końcowy wynik oparty jest na kilku wartościach:\n",
    "* Precyzja<br>\n",
    "Stosunek dopasowań wyrazów w ocenianym tłumaczeniu do wszystkich wyrazów tłumaczenia.\n",
    "$$\n",
    "  P = \\frac{\\sum \\limits_{i=1} ^{n} w_{i} * m_{i}(t)}{|t|}\n",
    "$$\n",
    "n - liczba modułów biorących udział w dopasowaniu<br>\n",
    "wi - waga i-tego modułu<br>\n",
    "mi(t) - liczb wyrazów dopasowanych przez i-ty moduł<br>\n",
    "|t| - liczba wszystkich wyrazów w tłumaczeniu<br>\n",
    "\n",
    "Przykład:\n",
    "$$\n",
    "  P = \\frac{w_{exact} * m_{exact}(t) + w_{stem} * m_{stem}(t) + w_{synonym} * m_{synonym}(t) + w_{paraphrase} * m_{paraphrase}(t) }{6}\n",
    "$$\n",
    "<br>\n",
    "$$\n",
    "  P = \\frac{w_{exact} * 1 + w_{stem} * 1 + w_{synonym} * 1 + w_{paraphrase} * 2 }{6}\n",
    "$$\n",
    "* Pokrycie <br>\n",
    "Stosunek wyrazów w tłumaczeniu wzorcowym, które zostały dopasowane w tłumaczeniu maszynowym do wszystkich wyrazów tłumaczenia wzorcowego.\n",
    "$$\n",
    "  R = \\frac{\\sum \\limits_{i=1} ^{n} w_{i} * m_{i}(r)}{|r|}\n",
    "$$\n",
    "mi(r) - liczba wyrazów dopasowanych w tłumaczeniu referencyjnym<br>\n",
    "|r| - liczba wyrazów tłumaczenia wzorcowego <br>\n",
    "\n",
    "Przykład:\n",
    "$$\n",
    "  P = \\frac{w_{exact} * m_{exact}(r) + w_{stem} * m_{stem}(r) + w_{synonym} * m_{synonym}(r) + w_{paraphrase} * m_{paraphrase}(r) }{6}\n",
    "$$\n",
    "$$\n",
    "  P = \\frac{w_{exact} * 1 + w_{stem} * 1 + w_{synonym} * 1 + w_{paraphrase} * 2 }{6}\n",
    "$$"
   ]
  },
  {
   "cell_type": "markdown",
   "id": "a0ff8acf-a6b6-4314-a1ba-ab6962438672",
   "metadata": {},
   "source": [
    "BLEU:\n",
    "* https://towardsdatascience.com/bleu-bilingual-evaluation-understudy-2b4eab9bcfd1\n",
    "BLEU i METEOR:\n",
    "* http://docplayer.pl/14218168-Ewaluacja-systemow-tlumaczenia-automatycznego.html"
   ]
  },
  {
   "cell_type": "code",
   "execution_count": null,
   "id": "b755c315-d803-4143-bf6a-584967d58740",
   "metadata": {},
   "outputs": [],
   "source": []
  }
 ],
 "metadata": {
  "kernelspec": {
   "display_name": "Python 3",
   "language": "python",
   "name": "python3"
  },
  "language_info": {
   "codemirror_mode": {
    "name": "ipython",
    "version": 3
   },
   "file_extension": ".py",
   "mimetype": "text/x-python",
   "name": "python",
   "nbconvert_exporter": "python",
   "pygments_lexer": "ipython3",
   "version": "3.8.8"
  }
 },
 "nbformat": 4,
 "nbformat_minor": 5
}
